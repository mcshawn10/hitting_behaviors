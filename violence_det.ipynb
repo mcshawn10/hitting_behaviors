{
 "cells": [
  {
   "cell_type": "code",
   "execution_count": null,
   "metadata": {},
   "outputs": [],
   "source": [
    "import tensorflow as tf\n",
    "import pandas as pd\n",
    "import numpy as np\n",
    "import cv2\n",
    "from tqdm import tqdm\n",
    "import sklearn as sk\n",
    "import os\n",
    "import random\n",
    "import math"
   ]
  },
  {
   "cell_type": "code",
   "execution_count": null,
   "metadata": {},
   "outputs": [],
   "source": [
    "import sys\n",
    "sys.version"
   ]
  },
  {
   "cell_type": "code",
   "execution_count": null,
   "metadata": {},
   "outputs": [],
   "source": [
    "tf.test.is_built_with_cuda()"
   ]
  },
  {
   "cell_type": "code",
   "execution_count": null,
   "metadata": {},
   "outputs": [],
   "source": [
    "physical_devices = tf.config.list_physical_devices('GPU')\n",
    "print(physical_devices)\n",
    "\n",
    "print(\"Num Physical Devices Available: \", len(physical_devices))\n",
    "\n",
    "print(tf.__version__)\n",
    "print(cv2.__version__)"
   ]
  },
  {
   "cell_type": "markdown",
   "metadata": {},
   "source": [
    "**Constants**\n"
   ]
  },
  {
   "cell_type": "code",
   "execution_count": null,
   "metadata": {},
   "outputs": [],
   "source": [
    "IMG_SIZE = 224\n",
    "BATCH_SIZE = 64\n",
    "#PATH = \"C:/Python/chen22/hitting_behaviors/video_data/violence_dataset/\"\n",
    "PATH = \"video_data/violence_dataset/\""
   ]
  },
  {
   "cell_type": "markdown",
   "metadata": {},
   "source": [
    "**Make Datatset**\n"
   ]
  },
  {
   "cell_type": "code",
   "execution_count": null,
   "metadata": {},
   "outputs": [],
   "source": [
    "def video_to_frames(p):\n",
    "    #assert os.path.exists(p)\n",
    "    cap = cv2.VideoCapture(p)\n",
    "    \n",
    "    #assert cap\n",
    "    rate = math.floor(cap.get(3))\n",
    "\n",
    "    ImageFrames = []\n",
    "    #assert cap.isOpened()\n",
    "    \n",
    "\n",
    "    '''make sure to figure out how to extract a certain amount of frames so you don't use too much memory'''\n",
    "    while cap.isOpened():\n",
    "        #ID = cap.get(1)\n",
    "        \n",
    "        success, image = cap.read()\n",
    "        n_frames = int(cap.get(cv2.CAP_PROP_FRAME_COUNT))\n",
    "        #print(n_frames)\n",
    "        #assert success\n",
    "\n",
    "        if success:\n",
    "\n",
    "            for frame in range(n_frames):\n",
    "                if frame % 10 == 0:\n",
    "                    \n",
    "                    \n",
    "                    image = cv2.resize(image, (IMG_SIZE, IMG_SIZE))\n",
    "                    ImageFrames.append(image)\n",
    "                else: continue\n",
    "            cap.release()\n",
    "    #print(\"successful frame capture\")\n",
    "            return ImageFrames\n",
    "\n",
    "        else: \n",
    "            break"
   ]
  },
  {
   "cell_type": "code",
   "execution_count": null,
   "metadata": {},
   "outputs": [],
   "source": [
    "CATEGORIES = [\"NonViolence\", \"Violence\"]\n",
    "X_set = []\n",
    "y_set = []\n",
    "for category in os.listdir(PATH):\n",
    "    \n",
    "    \n",
    "    path = os.path.join(PATH, category)\n",
    "    #print(path)\n",
    "    #assert os.path.exists(path)\n",
    "\n",
    "\n",
    "    class_num = CATEGORIES.index(category)\n",
    "    for i, video in tqdm(enumerate(os.listdir(path)[0:350]), total=len(os.listdir(path)[0:350])):\n",
    "\n",
    "        #print(path + '/' + video)\n",
    "        #print(os.path.join(path, video))\n",
    "        frames = video_to_frames(path + '/' + video)\n",
    "        if frames:\n",
    "        \n",
    "            for j, frame in enumerate(frames):\n",
    "                X_set.append(frame)\n",
    "                y_set.append(class_num)\n",
    "        else: continue\n",
    "\n",
    "            \n",
    "print(\"success\")"
   ]
  },
  {
   "cell_type": "code",
   "execution_count": null,
   "metadata": {},
   "outputs": [],
   "source": [
    "X_set = np.array(X_set).reshape(-1 , IMG_SIZE * IMG_SIZE * 3)\n",
    "y_original = np.array(y_set)\n",
    "len(X_set), len(y_set)"
   ]
  },
  {
   "cell_type": "code",
   "execution_count": null,
   "metadata": {},
   "outputs": [],
   "source": [
    "from sklearn.model_selection import train_test_split\n",
    "\n",
    "X_train, X_test, y_train, y_test = train_test_split(X_set, y_set, test_size=0.2, random_state=42)\n",
    "\n",
    "X_train = X_train.reshape(-1, IMG_SIZE, IMG_SIZE, 3) / 255\n",
    "X_test = X_test.reshape(-1, IMG_SIZE, IMG_SIZE, 3) / 255"
   ]
  },
  {
   "cell_type": "code",
   "execution_count": null,
   "metadata": {},
   "outputs": [],
   "source": [
    "#EffNet = tf.keras.applications.EfficientNetV2B0(include_top=False, weights = 'imageNet', )"
   ]
  }
 ],
 "metadata": {
  "kernelspec": {
   "display_name": "Python 3.9.6 64-bit",
   "language": "python",
   "name": "python3"
  },
  "language_info": {
   "codemirror_mode": {
    "name": "ipython",
    "version": 3
   },
   "file_extension": ".py",
   "mimetype": "text/x-python",
   "name": "python",
   "nbconvert_exporter": "python",
   "pygments_lexer": "ipython3",
   "version": "3.9.6"
  },
  "orig_nbformat": 4,
  "vscode": {
   "interpreter": {
    "hash": "11938c6bc6919ae2720b4d5011047913343b08a43b18698fd82dedb0d4417594"
   }
  }
 },
 "nbformat": 4,
 "nbformat_minor": 2
}
