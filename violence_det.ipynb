{
 "cells": [
  {
   "cell_type": "code",
   "execution_count": 1,
   "metadata": {},
   "outputs": [],
   "source": [
    "import tensorflow as tf\n",
    "import pandas as pd\n",
    "import numpy as np\n",
    "import cv2\n",
    "from tqdm import tqdm\n",
    "import sklearn as sk\n",
    "import os\n",
    "import random\n",
    "import math"
   ]
  },
  {
   "cell_type": "code",
   "execution_count": 2,
   "metadata": {},
   "outputs": [
    {
     "data": {
      "text/plain": [
       "True"
      ]
     },
     "execution_count": 2,
     "metadata": {},
     "output_type": "execute_result"
    }
   ],
   "source": [
    "tf.test.is_built_with_cuda()"
   ]
  },
  {
   "cell_type": "markdown",
   "metadata": {},
   "source": [
    "**Constants**\n"
   ]
  },
  {
   "cell_type": "code",
   "execution_count": 3,
   "metadata": {},
   "outputs": [],
   "source": [
    "IMG_SIZE = 224\n",
    "\n",
    "\n",
    "#PATH = \"C:/Python/chen22/hitting_behaviors/video_data/violence_dataset/\"\n",
    "PATH = \"video_data/violence_dataset/\""
   ]
  },
  {
   "cell_type": "markdown",
   "metadata": {},
   "source": [
    "**Data Preprocessing**\n"
   ]
  },
  {
   "cell_type": "code",
   "execution_count": 4,
   "metadata": {},
   "outputs": [],
   "source": [
    "def video_to_frames(p):\n",
    "    #assert os.path.exists(p)\n",
    "    cap = cv2.VideoCapture(p)\n",
    "    \n",
    "    #assert cap\n",
    "    rate = math.floor(cap.get(3))\n",
    "\n",
    "    ImageFrames = []\n",
    "    #assert cap.isOpened()\n",
    "    \n",
    "\n",
    "    '''make sure to figure out how to extract a certain amount of frames so you don't use too much memory'''\n",
    "    while cap.isOpened():\n",
    "        #ID = cap.get(1)\n",
    "        \n",
    "        success, image = cap.read()\n",
    "        n_frames = int(cap.get(cv2.CAP_PROP_FRAME_COUNT))\n",
    "        #print(n_frames)\n",
    "        #assert success\n",
    "\n",
    "        if success:\n",
    "\n",
    "            for frame in range(n_frames):\n",
    "                if frame % 10 == 0:\n",
    "                    \n",
    "                    \n",
    "                    image = cv2.resize(image, (IMG_SIZE, IMG_SIZE))\n",
    "                    ImageFrames.append(image)\n",
    "                else: continue\n",
    "            cap.release()\n",
    "    #print(\"successful frame capture\")\n",
    "            return ImageFrames\n",
    "\n",
    "        else: \n",
    "            break"
   ]
  },
  {
   "cell_type": "code",
   "execution_count": 5,
   "metadata": {},
   "outputs": [
    {
     "name": "stderr",
     "output_type": "stream",
     "text": [
      "100%|██████████| 350/350 [00:07<00:00, 47.65it/s]\n",
      "100%|██████████| 350/350 [00:07<00:00, 47.19it/s]"
     ]
    },
    {
     "name": "stdout",
     "output_type": "stream",
     "text": [
      "success\n"
     ]
    },
    {
     "name": "stderr",
     "output_type": "stream",
     "text": [
      "\n"
     ]
    }
   ],
   "source": [
    "CATEGORIES = [\"NonViolence\", \"Violence\"]\n",
    "X_set = []\n",
    "y_set = []\n",
    "for category in os.listdir(PATH):\n",
    "    \n",
    "    \n",
    "    path = os.path.join(PATH, category)\n",
    "    #print(path)\n",
    "    #assert os.path.exists(path)\n",
    "\n",
    "\n",
    "    class_num = CATEGORIES.index(category)\n",
    "    for i, video in tqdm(enumerate(os.listdir(path)[0:350]), total=len(os.listdir(path)[0:350])):\n",
    "\n",
    "        #print(path + '/' + video)\n",
    "        #print(os.path.join(path, video))\n",
    "        frames = video_to_frames(path + '/' + video)\n",
    "        if frames:\n",
    "        \n",
    "            for j, frame in enumerate(frames):\n",
    "                X_set.append(frame)\n",
    "                y_set.append(class_num)\n",
    "        else: continue\n",
    "\n",
    "            \n",
    "print(\"success\")"
   ]
  },
  {
   "cell_type": "code",
   "execution_count": 6,
   "metadata": {},
   "outputs": [
    {
     "data": {
      "text/plain": [
       "(9878, 9878)"
      ]
     },
     "execution_count": 6,
     "metadata": {},
     "output_type": "execute_result"
    }
   ],
   "source": [
    "X_set = np.array(X_set).reshape(-1 , IMG_SIZE * IMG_SIZE * 3)\n",
    "y_set = np.array(y_set)\n",
    "len(X_set), len(y_set)"
   ]
  },
  {
   "cell_type": "code",
   "execution_count": 7,
   "metadata": {},
   "outputs": [],
   "source": [
    "from sklearn.model_selection import train_test_split\n",
    "from sklearn.utils import shuffle\n",
    "\n",
    "X_train, X_test, y_train, y_test = train_test_split(X_set, y_set, test_size=0.2, random_state=42)\n",
    "\n",
    "X_train = X_train.reshape(-1, IMG_SIZE, IMG_SIZE, 3) / 255\n",
    "X_test = X_test.reshape(-1, IMG_SIZE, IMG_SIZE, 3) / 255\n",
    "\n",
    "y_train = np.asarray(y_train)\n",
    "y_test = np.asarray(y_test)\n",
    "\n",
    "#X_train_shuffled, y_train_shuffled = shuffle(X_train, y_train, random_state=42)\n",
    "\n",
    "#X_test_shuffled, y_test_shuffled = shuffle(X_test, y_test, random_state=42)"
   ]
  },
  {
   "cell_type": "code",
   "execution_count": 8,
   "metadata": {},
   "outputs": [
    {
     "name": "stdout",
     "output_type": "stream",
     "text": [
      " X_train shape: (7902, 224, 224, 3), X_train data type: float64\n",
      "y_train shape: (7902,)\n"
     ]
    }
   ],
   "source": [
    "print(f\" X_train shape: {X_train.shape}, X_train data type: {X_train.dtype}\")\n",
    "print(f\"y_train shape: {y_train.shape}\")"
   ]
  },
  {
   "cell_type": "code",
   "execution_count": 9,
   "metadata": {},
   "outputs": [],
   "source": [
    "from tensorflow.keras.utils import Sequence\n",
    "\n",
    "\n",
    "class DataGenerator(Sequence):\n",
    "    def __init__(self, x_set, y_set, batch_size):\n",
    "        self.x, self.y = x_set, y_set\n",
    "        self.batch_size = batch_size\n",
    "\n",
    "    def __len__(self):\n",
    "        return int(np.ceil(len(self.x) / float(self.batch_size)))\n",
    "\n",
    "    def __getitem__(self, idx):\n",
    "        batch_x = self.x[idx * self.batch_size:(idx + 1) * self.batch_size]\n",
    "        batch_y = self.y[idx * self.batch_size:(idx + 1) * self.batch_size]\n",
    "        return batch_x, batch_y\n",
    "\n",
    "train_gen = DataGenerator(X_train[0:5000], y_train[0:5000], 16)\n",
    "test_gen = DataGenerator(X_test, y_test, 16)\n"
   ]
  },
  {
   "cell_type": "code",
   "execution_count": 10,
   "metadata": {},
   "outputs": [],
   "source": [
    "# tf_X_train = tf.convert_to_tensor(X_train[0:5000], dtype=tf.float32)\n",
    "# tf_X_test = tf.convert_to_tensor(X_test, dtype=tf.float32)\n",
    "\n",
    "\n",
    "# tf_y_train = tf.convert_to_tensor(y_train[0:5000], dtype=tf.float32)\n",
    "# tf_y_test = tf.convert_to_tensor(y_test, dtype=tf.float32)"
   ]
  },
  {
   "cell_type": "code",
   "execution_count": 11,
   "metadata": {},
   "outputs": [],
   "source": [
    "#train_dataset = tf.data.Dataset.from_tensor_slices((X_train[0:4000], y_train[0:4000]))\n",
    "#test_dataset = tf.data.Dataset.from_tensor_slices((X_test, y_test))"
   ]
  },
  {
   "cell_type": "code",
   "execution_count": 12,
   "metadata": {},
   "outputs": [],
   "source": [
    "# BATCH_SIZE = 16\n",
    "# SHUFFLE_BUFFER_SIZE = 100\n",
    "\n",
    "# train_dataset = train_dataset.shuffle(SHUFFLE_BUFFER_SIZE).batch(BATCH_SIZE)\n",
    "# test_dataset = test_dataset.batch(BATCH_SIZE)"
   ]
  },
  {
   "cell_type": "code",
   "execution_count": null,
   "metadata": {},
   "outputs": [],
   "source": []
  },
  {
   "cell_type": "markdown",
   "metadata": {},
   "source": [
    "**Building Model**"
   ]
  },
  {
   "cell_type": "code",
   "execution_count": 13,
   "metadata": {},
   "outputs": [],
   "source": [
    "from tensorflow import keras\n",
    "from tensorflow.keras import layers\n",
    "from tensorflow.keras.models import Model\n",
    "from tensorflow.keras.applications import EfficientNetV2B0\n",
    "from tensorflow.keras.applications.efficientnet_v2 import preprocess_input"
   ]
  },
  {
   "cell_type": "code",
   "execution_count": 14,
   "metadata": {},
   "outputs": [],
   "source": [
    "from tensorflow.keras import Sequential, layers\n",
    "\n",
    "data_augmentation = Sequential(\n",
    "    [\n",
    "        layers.RandomFlip(\"horizontal_and_vertical\"),\n",
    "        layers.RandomRotation(0.1),\n",
    "        layers.RandomZoom(0.1),\n",
    "        layers.RandomContrast(factor=0.1),\n",
    "        layers.RandomTranslation(height_factor=0.1, width_factor=0.1),\n",
    "    ],\n",
    "    name=\"img_augmentation\"\n",
    ")"
   ]
  },
  {
   "cell_type": "code",
   "execution_count": 19,
   "metadata": {},
   "outputs": [],
   "source": [
    "def build_model(input_shape, data_aug, trainable=True, dropout=0.2):\n",
    "        inputs = keras.Input(shape=input_shape)\n",
    "        x = data_aug(inputs)\n",
    "        x = preprocess_input(x)\n",
    "\n",
    "        baseModel = EfficientNetV2B0(weights=None, include_top=False, input_tensor=x)\n",
    "        baseModel.trainable = trainable\n",
    "\n",
    "        headModel = baseModel.output\n",
    "        headModel = layers.GlobalAveragePooling2D()(headModel)\n",
    "        headModel = layers.Dropout(dropout)(headModel)\n",
    "        outputs = layers.Dense(1, activation=\"sigmoid\")(headModel)\n",
    "        model = Model(inputs, outputs)\n",
    "\n",
    "        return model"
   ]
  },
  {
   "cell_type": "code",
   "execution_count": 20,
   "metadata": {},
   "outputs": [],
   "source": [
    "# EffNet = tf.keras.applications.EfficientNetV2B0(include_top=True,\n",
    "#                                                 weights=None,\n",
    "#                                                 pooling='avg', \n",
    "#                                                 classes=1)\n",
    "# #EffNet.trainable = False\n",
    "\n",
    "\n",
    "EffNet = build_model(input_shape=(224,224) + (3,),\n",
    "                     data_aug= data_augmentation,\n",
    "                     trainable=True,\n",
    "                     dropout=0.2)"
   ]
  },
  {
   "cell_type": "markdown",
   "metadata": {},
   "source": [
    "Compile model"
   ]
  },
  {
   "cell_type": "code",
   "execution_count": 21,
   "metadata": {},
   "outputs": [],
   "source": [
    "EffNet.compile(loss=tf.keras.losses.BinaryCrossentropy(),\n",
    "               optimizer=\"adam\",\n",
    "               metrics=[\"accuracy\"])\n",
    "\n",
    "            "
   ]
  },
  {
   "cell_type": "code",
   "execution_count": 22,
   "metadata": {},
   "outputs": [
    {
     "name": "stdout",
     "output_type": "stream",
     "text": [
      "[PhysicalDevice(name='/physical_device:GPU:0', device_type='GPU')]\n",
      "Num Physical Devices Available:  1\n",
      "2.8.0\n",
      "4.6.0\n",
      "1 Physical GPUs, 1 Logical GPU\n"
     ]
    }
   ],
   "source": [
    "gpus = tf.config.list_physical_devices('GPU')\n",
    "\n",
    "print(gpus)\n",
    "\n",
    "print(\"Num Physical Devices Available: \", len(gpus))\n",
    "\n",
    "print(tf.__version__)\n",
    "print(cv2.__version__)\n",
    "\n",
    "if gpus:\n",
    "      # Restrict TensorFlow to only use the first GPU\n",
    "  try:\n",
    "    tf.config.set_visible_devices(gpus[0], 'GPU')\n",
    "    logical_gpus = tf.config.list_logical_devices('GPU')\n",
    "    print(len(gpus), \"Physical GPUs,\", len(logical_gpus), \"Logical GPU\")\n",
    "  except RuntimeError as e:\n",
    "    # Visible devices must be set before GPUs have been initialized\n",
    "    print(e)"
   ]
  },
  {
   "cell_type": "markdown",
   "metadata": {},
   "source": [
    "Fit model"
   ]
  },
  {
   "cell_type": "code",
   "execution_count": 23,
   "metadata": {},
   "outputs": [
    {
     "name": "stdout",
     "output_type": "stream",
     "text": [
      "Epoch 1/11\n",
      "313/313 [==============================] - 127s 307ms/step - loss: 0.5977 - accuracy: 0.6802\n",
      "Epoch 2/11\n",
      "313/313 [==============================] - 34s 109ms/step - loss: 0.4891 - accuracy: 0.7712\n",
      "Epoch 3/11\n",
      "313/313 [==============================] - 34s 110ms/step - loss: 0.3912 - accuracy: 0.8328\n",
      "Epoch 4/11\n",
      "313/313 [==============================] - 34s 110ms/step - loss: 0.3371 - accuracy: 0.8574\n",
      "Epoch 5/11\n",
      "313/313 [==============================] - 34s 110ms/step - loss: 0.2826 - accuracy: 0.8860\n",
      "Epoch 6/11\n",
      "313/313 [==============================] - 34s 110ms/step - loss: 0.2470 - accuracy: 0.9040\n",
      "Epoch 7/11\n",
      "313/313 [==============================] - 35s 110ms/step - loss: 0.2088 - accuracy: 0.9150\n",
      "Epoch 8/11\n",
      "313/313 [==============================] - 35s 110ms/step - loss: 0.1976 - accuracy: 0.9238\n",
      "Epoch 9/11\n",
      "313/313 [==============================] - 35s 113ms/step - loss: 0.1619 - accuracy: 0.9350\n",
      "Epoch 10/11\n",
      "313/313 [==============================] - 36s 114ms/step - loss: 0.1669 - accuracy: 0.9388\n",
      "Epoch 11/11\n",
      "313/313 [==============================] - 36s 115ms/step - loss: 0.1432 - accuracy: 0.9482\n",
      "Training Complete.\n"
     ]
    }
   ],
   "source": [
    "history = EffNet.fit(train_gen,\n",
    "                     batch_size=16,\n",
    "                     epochs=11,                     \n",
    "                     verbose=1)\n",
    "\n",
    "print(\"Training Complete.\")"
   ]
  },
  {
   "cell_type": "code",
   "execution_count": 24,
   "metadata": {},
   "outputs": [
    {
     "name": "stdout",
     "output_type": "stream",
     "text": [
      "124/124 [==============================] - 6s 33ms/step - loss: 1.0985 - accuracy: 0.4970\n",
      "This model's accuracy is: 49.7 %\n"
     ]
    }
   ],
   "source": [
    "def eval_model(model):\n",
    "    acc = model.evaluate(test_gen)\n",
    "    print(\"This model's accuracy is:\", round(acc[1], 4)*100 , \"%\")\n",
    "\n",
    "\n",
    "eval_model(EffNet)"
   ]
  },
  {
   "cell_type": "code",
   "execution_count": 25,
   "metadata": {},
   "outputs": [
    {
     "data": {
      "image/png": "[encoded data removed]",
      "text/plain": [
       "<Figure size 720x504 with 1 Axes>"
      ]
     },
     "metadata": {
      "needs_background": "light"
     },
     "output_type": "display_data"
    }
   ],
   "source": [
    "def view_performance(model_hist):\n",
    "    graph = pd.DataFrame(model_hist.history).plot(figsize=(10,7), title=\"EfficientNet Training Performance\", xlabel=\"Epochs\")\n",
    "\n",
    "\n",
    "\n",
    "view_performance(history)"
   ]
  }
 ],
 "metadata": {
  "kernelspec": {
   "display_name": "Python 3.9.6 64-bit",
   "language": "python",
   "name": "python3"
  },
  "language_info": {
   "codemirror_mode": {
    "name": "ipython",
    "version": 3
   },
   "file_extension": ".py",
   "mimetype": "text/x-python",
   "name": "python",
   "nbconvert_exporter": "python",
   "pygments_lexer": "ipython3",
   "version": "3.9.6"
  },
  "orig_nbformat": 4,
  "vscode": {
   "interpreter": {
    "hash": "11938c6bc6919ae2720b4d5011047913343b08a43b18698fd82dedb0d4417594"
   }
  }
 },
 "nbformat": 4,
 "nbformat_minor": 2
}
