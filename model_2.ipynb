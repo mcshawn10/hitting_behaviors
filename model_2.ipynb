{
 "cells": [
  {
   "cell_type": "code",
   "execution_count": null,
   "metadata": {},
   "outputs": [
    {
     "ename": "",
     "evalue": "",
     "output_type": "error",
     "traceback": [
      "\u001b[1;31mThe kernel failed to start due to an error with the Win32api module. Consider (re) installing this module.\n",
      "\u001b[1;31mClick <a href='https://aka.ms/kernelFailuresWin32Api'>here</a> for more info."
     ]
    }
   ],
   "source": [
    "import tensorflow as tf\n",
    "import pandas as pd\n",
    "import numpy as np\n",
    "import cv2\n",
    "from tqdm import tqdm\n",
    "import sklearn as sk\n",
    "import os\n",
    "import random\n",
    "import math"
   ]
  },
  {
   "cell_type": "code",
   "execution_count": null,
   "metadata": {},
   "outputs": [
    {
     "ename": "",
     "evalue": "",
     "output_type": "error",
     "traceback": [
      "\u001b[1;31mThe kernel failed to start due to an error with the Win32api module. Consider (re) installing this module.\n",
      "\u001b[1;31mClick <a href='https://aka.ms/kernelFailuresWin32Api'>here</a> for more info."
     ]
    }
   ],
   "source": [
    "tf.test.is_built_with_cuda()"
   ]
  },
  {
   "cell_type": "code",
   "execution_count": null,
   "metadata": {},
   "outputs": [
    {
     "ename": "",
     "evalue": "",
     "output_type": "error",
     "traceback": [
      "\u001b[1;31mThe kernel failed to start due to an error with the Win32api module. Consider (re) installing this module.\n",
      "\u001b[1;31mClick <a href='https://aka.ms/kernelFailuresWin32Api'>here</a> for more info."
     ]
    }
   ],
   "source": [
    "IMG_SIZE = 224\n",
    "\n",
    "PATH = \"video_data/surviellance_dataset/\""
   ]
  },
  {
   "cell_type": "code",
   "execution_count": null,
   "metadata": {},
   "outputs": [
    {
     "ename": "",
     "evalue": "",
     "output_type": "error",
     "traceback": [
      "\u001b[1;31mThe kernel failed to start due to an error with the Win32api module. Consider (re) installing this module.\n",
      "\u001b[1;31mClick <a href='https://aka.ms/kernelFailuresWin32Api'>here</a> for more info."
     ]
    }
   ],
   "source": [
    "def video_to_frames(p):\n",
    "    #assert os.path.exists(p)\n",
    "    cap = cv2.VideoCapture(p)\n",
    "    \n",
    "    #assert cap\n",
    "    rate = math.floor(cap.get(3))\n",
    "\n",
    "    ImageFrames = []\n",
    "    #assert cap.isOpened()\n",
    "    \n",
    "\n",
    "    '''make sure to figure out how to extract a certain amount of frames so you don't use too much memory'''\n",
    "    while cap.isOpened():\n",
    "        #ID = cap.get(1)\n",
    "        \n",
    "        success, image = cap.read()\n",
    "        n_frames = int(cap.get(cv2.CAP_PROP_FRAME_COUNT))\n",
    "        #print(n_frames)\n",
    "        #assert success\n",
    "\n",
    "        if success:\n",
    "\n",
    "            for frame in range(n_frames):\n",
    "                if frame % 10 == 0:\n",
    "                    \n",
    "                    \n",
    "                    image = cv2.resize(image, (IMG_SIZE, IMG_SIZE))\n",
    "                    image = cv2.cvtColor(image, cv2.COLOR_BGR2RGB)\n",
    "                    ImageFrames.append(image)\n",
    "                else: continue\n",
    "            cap.release()\n",
    "    #print(\"successful frame capture\")\n",
    "            return ImageFrames\n",
    "\n",
    "        else: \n",
    "            break"
   ]
  },
  {
   "cell_type": "code",
   "execution_count": null,
   "metadata": {},
   "outputs": [
    {
     "ename": "",
     "evalue": "",
     "output_type": "error",
     "traceback": [
      "\u001b[1;31mThe kernel failed to start due to an error with the Win32api module. Consider (re) installing this module.\n",
      "\u001b[1;31mClick <a href='https://aka.ms/kernelFailuresWin32Api'>here</a> for more info."
     ]
    }
   ],
   "source": [
    "CATEGORIES = [\"fight\", \"noFight\"]\n",
    "X_set = []\n",
    "y_set = []\n",
    "for category in os.listdir(PATH):\n",
    "    \n",
    "    \n",
    "    path = os.path.join(PATH, category)\n",
    "    #print(path)\n",
    "    #assert os.path.exists(path)\n",
    "\n",
    "\n",
    "    class_num = CATEGORIES.index(category)\n",
    "    for i, video in tqdm(enumerate(os.listdir(path)), total=len(os.listdir(path))):\n",
    "\n",
    "        #print(path + '/' + video)\n",
    "        #print(os.path.join(path, video))\n",
    "        frames = video_to_frames(path + '/' + video)\n",
    "        if frames:\n",
    "        \n",
    "            for j, frame in enumerate(frames):\n",
    "                X_set.append(frame)\n",
    "                y_set.append(class_num)\n",
    "        else: continue\n",
    "\n",
    "            \n",
    "print(\"success\")"
   ]
  },
  {
   "cell_type": "code",
   "execution_count": null,
   "metadata": {},
   "outputs": [
    {
     "ename": "",
     "evalue": "",
     "output_type": "error",
     "traceback": [
      "\u001b[1;31mThe kernel failed to start due to an error with the Win32api module. Consider (re) installing this module.\n",
      "\u001b[1;31mClick <a href='https://aka.ms/kernelFailuresWin32Api'>here</a> for more info."
     ]
    }
   ],
   "source": [
    "X_set = np.array(X_set).reshape(-1 , IMG_SIZE * IMG_SIZE * 3)\n",
    "y_set = np.array(y_set)\n",
    "len(X_set), len(y_set)"
   ]
  },
  {
   "cell_type": "code",
   "execution_count": null,
   "metadata": {},
   "outputs": [
    {
     "ename": "",
     "evalue": "",
     "output_type": "error",
     "traceback": [
      "\u001b[1;31mThe kernel failed to start due to an error with the Win32api module. Consider (re) installing this module.\n",
      "\u001b[1;31mClick <a href='https://aka.ms/kernelFailuresWin32Api'>here</a> for more info."
     ]
    }
   ],
   "source": [
    "type(y_set), type(X_set)\n"
   ]
  },
  {
   "cell_type": "code",
   "execution_count": null,
   "metadata": {},
   "outputs": [
    {
     "ename": "",
     "evalue": "",
     "output_type": "error",
     "traceback": [
      "\u001b[1;31mThe kernel failed to start due to an error with the Win32api module. Consider (re) installing this module.\n",
      "\u001b[1;31mClick <a href='https://aka.ms/kernelFailuresWin32Api'>here</a> for more info."
     ]
    }
   ],
   "source": [
    "from sklearn.model_selection import StratifiedShuffleSplit, train_test_split\n",
    "\n",
    "stratified_sample = StratifiedShuffleSplit(n_splits=2, test_size=0.4, random_state=42)\n",
    "\n",
    "for train_index, test_index in stratified_sample.split(X_set, y_set):\n",
    "    X_train, X_test = X_set[train_index], X_set[test_index]\n",
    "    y_train, y_test = y_set[train_index], y_set[test_index]"
   ]
  },
  {
   "cell_type": "code",
   "execution_count": null,
   "metadata": {},
   "outputs": [
    {
     "ename": "",
     "evalue": "",
     "output_type": "error",
     "traceback": [
      "\u001b[1;31mThe kernel failed to start due to an error with the Win32api module. Consider (re) installing this module.\n",
      "\u001b[1;31mClick <a href='https://aka.ms/kernelFailuresWin32Api'>here</a> for more info."
     ]
    }
   ],
   "source": [
    "X_train.shape, X_test.shape, y_train.shape, y_test.shape"
   ]
  },
  {
   "cell_type": "code",
   "execution_count": null,
   "metadata": {},
   "outputs": [
    {
     "ename": "",
     "evalue": "",
     "output_type": "error",
     "traceback": [
      "\u001b[1;31mThe kernel failed to start due to an error with the Win32api module. Consider (re) installing this module.\n",
      "\u001b[1;31mClick <a href='https://aka.ms/kernelFailuresWin32Api'>here</a> for more info."
     ]
    }
   ],
   "source": [
    "strat_sample = StratifiedShuffleSplit(n_splits=2, test_size=0.5, random_state=42)\n",
    "\n",
    "for train_index, test_index in strat_sample.split(X_test, y_test):\n",
    "    X_test_nn, X_val = X_test[train_index], X_test[test_index]\n",
    "    y_test_nn, y_val = y_test[train_index], y_test[test_index]"
   ]
  },
  {
   "cell_type": "code",
   "execution_count": null,
   "metadata": {},
   "outputs": [
    {
     "ename": "",
     "evalue": "",
     "output_type": "error",
     "traceback": [
      "\u001b[1;31mThe kernel failed to start due to an error with the Win32api module. Consider (re) installing this module.\n",
      "\u001b[1;31mClick <a href='https://aka.ms/kernelFailuresWin32Api'>here</a> for more info."
     ]
    }
   ],
   "source": [
    "X_train = X_train.reshape(-1, IMG_SIZE, IMG_SIZE, 3) / 255\n",
    "X_test_nn = X_test.reshape(-1, IMG_SIZE, IMG_SIZE, 3) / 255\n",
    "X_val = X_val.reshape(-1, IMG_SIZE, IMG_SIZE, 3) / 255\n",
    "\n",
    "y_train = np.asarray(y_train)\n",
    "y_test_nn = np.asarray(y_test)\n",
    "y_val = np.asarray(y_val)"
   ]
  },
  {
   "cell_type": "code",
   "execution_count": null,
   "metadata": {},
   "outputs": [
    {
     "ename": "",
     "evalue": "",
     "output_type": "error",
     "traceback": [
      "\u001b[1;31mThe kernel failed to start due to an error with the Win32api module. Consider (re) installing this module.\n",
      "\u001b[1;31mClick <a href='https://aka.ms/kernelFailuresWin32Api'>here</a> for more info."
     ]
    }
   ],
   "source": [
    "import matplotlib.pyplot as plt\n",
    "import matplotlib.image as mpimg\n",
    "\n",
    "\n",
    "plt.imshow(X_test_nn[50])"
   ]
  },
  {
   "cell_type": "code",
   "execution_count": null,
   "metadata": {},
   "outputs": [
    {
     "ename": "",
     "evalue": "",
     "output_type": "error",
     "traceback": [
      "\u001b[1;31mThe kernel failed to start due to an error with the Win32api module. Consider (re) installing this module.\n",
      "\u001b[1;31mClick <a href='https://aka.ms/kernelFailuresWin32Api'>here</a> for more info."
     ]
    }
   ],
   "source": [
    "print(f\" X_train shape: {X_train.shape}, X_train data type: {X_train.dtype}\")\n",
    "print(f\"y_train shape: {y_train.shape}\")"
   ]
  },
  {
   "cell_type": "code",
   "execution_count": null,
   "metadata": {},
   "outputs": [
    {
     "ename": "",
     "evalue": "",
     "output_type": "error",
     "traceback": [
      "\u001b[1;31mThe kernel failed to start due to an error with the Win32api module. Consider (re) installing this module.\n",
      "\u001b[1;31mClick <a href='https://aka.ms/kernelFailuresWin32Api'>here</a> for more info."
     ]
    }
   ],
   "source": [
    "type(X_train), type(X_test_nn), type(X_val)"
   ]
  },
  {
   "cell_type": "code",
   "execution_count": null,
   "metadata": {},
   "outputs": [
    {
     "ename": "",
     "evalue": "",
     "output_type": "error",
     "traceback": [
      "\u001b[1;31mThe kernel failed to start due to an error with the Win32api module. Consider (re) installing this module.\n",
      "\u001b[1;31mClick <a href='https://aka.ms/kernelFailuresWin32Api'>here</a> for more info."
     ]
    }
   ],
   "source": [
    "from tensorflow.keras.utils import Sequence\n",
    "\n",
    "\n",
    "class DataGenerator(Sequence):\n",
    "    def __init__(self, x_set, y_set, batch_size):\n",
    "        self.x, self.y = x_set, y_set\n",
    "        self.batch_size = batch_size\n",
    "\n",
    "    def __len__(self):\n",
    "        return int(np.ceil(len(self.x) / float(self.batch_size)))\n",
    "\n",
    "    def __getitem__(self, idx):\n",
    "        batch_x = self.x[idx * self.batch_size:(idx + 1) * self.batch_size]\n",
    "        batch_y = self.y[idx * self.batch_size:(idx + 1) * self.batch_size]\n",
    "        return batch_x, batch_y\n",
    "\n",
    "train_gen = DataGenerator(X_train, y_train, 16)\n",
    "test_gen = DataGenerator(X_test_nn, y_test_nn, 16)\n",
    "val_gen = DataGenerator(X_val, y_val, 16)"
   ]
  },
  {
   "cell_type": "code",
   "execution_count": null,
   "metadata": {},
   "outputs": [
    {
     "ename": "",
     "evalue": "",
     "output_type": "error",
     "traceback": [
      "\u001b[1;31mThe kernel failed to start due to an error with the Win32api module. Consider (re) installing this module.\n",
      "\u001b[1;31mClick <a href='https://aka.ms/kernelFailuresWin32Api'>here</a> for more info."
     ]
    }
   ],
   "source": [
    "from tensorflow import keras\n",
    "from tensorflow.keras import layers\n",
    "from tensorflow.keras.models import Model\n",
    "from tensorflow.keras.applications import EfficientNetV2B0\n",
    "from tensorflow.keras.applications.efficientnet_v2 import preprocess_input"
   ]
  },
  {
   "cell_type": "code",
   "execution_count": null,
   "metadata": {},
   "outputs": [
    {
     "ename": "",
     "evalue": "",
     "output_type": "error",
     "traceback": [
      "\u001b[1;31mThe kernel failed to start due to an error with the Win32api module. Consider (re) installing this module.\n",
      "\u001b[1;31mClick <a href='https://aka.ms/kernelFailuresWin32Api'>here</a> for more info."
     ]
    }
   ],
   "source": [
    "from tensorflow.keras import Sequential, layers\n",
    "\n",
    "# data_augmentation = Sequential(\n",
    "#     [\n",
    "#         layers.RandomFlip(\"horizontal_and_vertical\"),\n",
    "#         layers.RandomRotation(0.1),\n",
    "#         layers.RandomZoom(0.1),\n",
    "#         layers.RandomContrast(factor=0.1),\n",
    "#         layers.RandomTranslation(height_factor=0.1, width_factor=0.1),\n",
    "#     ],\n",
    "#     name=\"img_augmentation\"\n",
    "# )\n",
    "data_augmentation = Sequential(\n",
    "    [\n",
    "        layers.RandomRotation(factor=0.15),\n",
    "        layers.RandomTranslation(height_factor=0.1, width_factor=0.1),\n",
    "        layers.RandomFlip(),\n",
    "        layers.RandomContrast(factor=0.1),\n",
    "    ],\n",
    "    name=\"img_augmentation\"\n",
    ")"
   ]
  },
  {
   "cell_type": "code",
   "execution_count": null,
   "metadata": {},
   "outputs": [
    {
     "ename": "",
     "evalue": "",
     "output_type": "error",
     "traceback": [
      "\u001b[1;31mThe kernel failed to start due to an error with the Win32api module. Consider (re) installing this module.\n",
      "\u001b[1;31mClick <a href='https://aka.ms/kernelFailuresWin32Api'>here</a> for more info."
     ]
    }
   ],
   "source": [
    "def build_model(input_shape, data_aug, trainable=True, dropout=0.2):\n",
    "        inputs = keras.Input(shape=input_shape)\n",
    "        x = data_aug(inputs)\n",
    "        x = preprocess_input(x)\n",
    "\n",
    "        baseModel = EfficientNetV2B0(weights=None, include_top=False, input_tensor=x)\n",
    "        baseModel.trainable = trainable\n",
    "\n",
    "        headModel = baseModel.output\n",
    "        headModel = layers.GlobalAveragePooling2D()(headModel)\n",
    "        headModel = layers.Dropout(dropout)(headModel)\n",
    "        outputs = layers.Dense(1, activation=\"sigmoid\")(headModel)\n",
    "        model = Model(inputs, outputs)\n",
    "\n",
    "        return model"
   ]
  },
  {
   "cell_type": "code",
   "execution_count": null,
   "metadata": {},
   "outputs": [
    {
     "ename": "",
     "evalue": "",
     "output_type": "error",
     "traceback": [
      "\u001b[1;31mThe kernel failed to start due to an error with the Win32api module. Consider (re) installing this module.\n",
      "\u001b[1;31mClick <a href='https://aka.ms/kernelFailuresWin32Api'>here</a> for more info."
     ]
    }
   ],
   "source": [
    "EffNet = build_model(input_shape=(224,224) + (3,),\n",
    "                     data_aug= data_augmentation,\n",
    "                     trainable=True,\n",
    "                     \n",
    "                     dropout=0.2)"
   ]
  },
  {
   "cell_type": "code",
   "execution_count": null,
   "metadata": {},
   "outputs": [
    {
     "ename": "",
     "evalue": "",
     "output_type": "error",
     "traceback": [
      "\u001b[1;31mThe kernel failed to start due to an error with the Win32api module. Consider (re) installing this module.\n",
      "\u001b[1;31mClick <a href='https://aka.ms/kernelFailuresWin32Api'>here</a> for more info."
     ]
    }
   ],
   "source": [
    "from keras.callbacks import TensorBoard, EarlyStopping\n",
    "callbacks = [\n",
    "    EarlyStopping(monitor='val_loss', patience=15, mode='min', min_delta=0.0001)\n",
    "    \n",
    "]\n",
    "\n",
    "#keep batchlayers intact, reduces learning time\n",
    "# for layer in EffNet.layers:\n",
    "#     if isinstance(layer, layers.BatchNormalization):\n",
    "#         layer.trainable = False\n",
    "#     else:\n",
    "#         layer.trainable = True"
   ]
  },
  {
   "cell_type": "code",
   "execution_count": null,
   "metadata": {},
   "outputs": [
    {
     "ename": "",
     "evalue": "",
     "output_type": "error",
     "traceback": [
      "\u001b[1;31mThe kernel failed to start due to an error with the Win32api module. Consider (re) installing this module.\n",
      "\u001b[1;31mClick <a href='https://aka.ms/kernelFailuresWin32Api'>here</a> for more info."
     ]
    }
   ],
   "source": [
    "mets = ['binary_accuracy', 'acc']\n",
    "EffNet.compile(loss=tf.keras.losses.BinaryCrossentropy(),\n",
    "               optimizer=\"adam\",\n",
    "               metrics=mets)\n",
    "\n",
    "            "
   ]
  },
  {
   "cell_type": "code",
   "execution_count": null,
   "metadata": {},
   "outputs": [
    {
     "ename": "",
     "evalue": "",
     "output_type": "error",
     "traceback": [
      "\u001b[1;31mThe kernel failed to start due to an error with the Win32api module. Consider (re) installing this module.\n",
      "\u001b[1;31mClick <a href='https://aka.ms/kernelFailuresWin32Api'>here</a> for more info."
     ]
    }
   ],
   "source": [
    "gpus = tf.config.list_physical_devices('GPU')\n",
    "\n",
    "print(gpus)\n",
    "\n",
    "print(\"Num Physical Devices Available: \", len(gpus))\n",
    "\n",
    "print(tf.__version__)\n",
    "print(cv2.__version__)\n",
    "\n",
    "if gpus:\n",
    "      # Restrict TensorFlow to only use the first GPU\n",
    "  try:\n",
    "    tf.config.set_visible_devices(gpus[0], 'GPU')\n",
    "    logical_gpus = tf.config.list_logical_devices('GPU')\n",
    "    print(len(gpus), \"Physical GPUs,\", len(logical_gpus), \"Logical GPU\")\n",
    "  except RuntimeError as e:\n",
    "    # Visible devices must be set before GPUs have been initialized\n",
    "    print(e)"
   ]
  },
  {
   "cell_type": "code",
   "execution_count": null,
   "metadata": {},
   "outputs": [
    {
     "ename": "",
     "evalue": "",
     "output_type": "error",
     "traceback": [
      "\u001b[1;31mThe kernel failed to start due to an error with the Win32api module. Consider (re) installing this module.\n",
      "\u001b[1;31mClick <a href='https://aka.ms/kernelFailuresWin32Api'>here</a> for more info."
     ]
    }
   ],
   "source": [
    "history = EffNet.fit(train_gen,\n",
    "                     batch_size=16,\n",
    "                     epochs=11, \n",
    "                     callbacks= callbacks,\n",
    "                     validation_data=val_gen,                    \n",
    "                     verbose=1)\n",
    "\n",
    "print(\"Training Complete.\")"
   ]
  },
  {
   "cell_type": "code",
   "execution_count": null,
   "metadata": {},
   "outputs": [
    {
     "ename": "",
     "evalue": "",
     "output_type": "error",
     "traceback": [
      "\u001b[1;31mThe kernel failed to start due to an error with the Win32api module. Consider (re) installing this module.\n",
      "\u001b[1;31mClick <a href='https://aka.ms/kernelFailuresWin32Api'>here</a> for more info."
     ]
    }
   ],
   "source": [
    "def eval_model(model):\n",
    "    acc = model.evaluate(test_gen)\n",
    "    print(\"This model's accuracy is:\", round(acc[1], 4)*100 , \"%\")\n",
    "\n",
    "\n",
    "eval_model(EffNet)"
   ]
  },
  {
   "cell_type": "code",
   "execution_count": null,
   "metadata": {},
   "outputs": [
    {
     "ename": "",
     "evalue": "",
     "output_type": "error",
     "traceback": [
      "\u001b[1;31mThe kernel failed to start due to an error with the Win32api module. Consider (re) installing this module.\n",
      "\u001b[1;31mClick <a href='https://aka.ms/kernelFailuresWin32Api'>here</a> for more info."
     ]
    }
   ],
   "source": [
    "def view_performance(model_hist):\n",
    "    graph = pd.DataFrame(model_hist.history).plot(figsize=(10,7), title=\"EfficientNet Training Performance\", xlabel=\"Epochs\")\n",
    "\n",
    "\n",
    "\n",
    "view_performance(history)"
   ]
  },
  {
   "cell_type": "code",
   "execution_count": null,
   "metadata": {},
   "outputs": [
    {
     "ename": "",
     "evalue": "",
     "output_type": "error",
     "traceback": [
      "\u001b[1;31mThe kernel failed to start due to an error with the Win32api module. Consider (re) installing this module.\n",
      "\u001b[1;31mClick <a href='https://aka.ms/kernelFailuresWin32Api'>here</a> for more info."
     ]
    }
   ],
   "source": []
  }
 ],
 "metadata": {
  "kernelspec": {
   "display_name": "Python 3.9.13 ('s2022')",
   "language": "python",
   "name": "python3"
  },
  "language_info": {
   "name": "python",
   "version": "3.9.13"
  },
  "orig_nbformat": 4,
  "vscode": {
   "interpreter": {
    "hash": "a654744524ba54103f479cd2b74dc50eeb98ff5176183c4ddbecab0e3e842f8b"
   }
  }
 },
 "nbformat": 4,
 "nbformat_minor": 2
}
